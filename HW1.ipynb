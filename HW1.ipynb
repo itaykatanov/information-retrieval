{
 "cells": [
  {
   "cell_type": "markdown",
   "metadata": {},
   "source": [
    "# Homework 2: Information Retrieval\n",
    "## Instructions\n",
    "1. Students will form teams of three people each and submit a single homework for each team in the format - ID1_ID2_ID3.ipynb\n",
    "2. Groups of four are not allowed and you are more than welcome to form groups of two.\n",
    "2. **Do not write your names anywhere.**\n",
    "3. For the code part: \n",
    "> **Write your code only in the mentioned sections. Do not change the code of other sections**. Do not use any imports unless we say so.\n",
    "4. For theoretical questions, if any - write your answer in the markdown cell dedicated to this task, in **English**.\n",
    "\n",
    "\n",
    "#### Deviation from the aforementioned  instructions will lead to reduced grade\n",
    "---\n",
    "\n",
    "\n",
    "## Clarifications\n",
    "1. The same score for the homework will be given to each member of the team.  \n",
    "2. The goal of this homework is to test your understanding of the concepts presented in the lectures. \\\n",
    "If a topic was not covered in detail during the lecture, you are asked to study it online on your own. \n",
    "Anyhow, we provide here detailed explanations for the code part and if you have problems - ask.\n",
    "3. Questions can be sent to the forum, you are encouraged to ask questions but do so after you have been thinking about your question. \n",
    "4. The length of the empty gaps (where you are supposed to write your code) is a recommendation (the amount of space took us to write the solution) and writing longer code will not harm your grade. We do not expect you to use the programming tricks and hacks we used to make the code shorter.   \n",
    "Having said that, we do encourage you to write good code and keep that in mind - **extreme** cases may be downgraded.  \n",
    "We also encourage to use informative variable names - it is easier for us to check and for you to understand. \n",
    "\n",
    "For your convenience, , the code has a **DEBUG** mode that you may use in order to debug with toy data.  \n",
    "It is recommended to solve the code in that mode (with efficiency in mind) and then run the code on all the data.\n",
    "**Do not forget to file the HW with DEBUG == False**.\n",
    "\n",
    "`Download the data` from [HERE](https://www.kaggle.com/gyani95/380000-lyrics-from-metrolyrics) and put it in the same directory your script is.\n",
    "\n",
    "Since it is the first time we provide this homework please notify us if there is a bug/something is unclear, typo's exc..\n",
    "\n",
    "5. We use Python 3.7 for programming.\n",
    "6. Make sure you have all the packages and functions used in the import section. Most of it is native to Anaconda Python distribution.\n",
    "\n",
    "### Have fun !"
   ]
  },
  {
   "cell_type": "markdown",
   "metadata": {},
   "source": [
    "# Imports"
   ]
  },
  {
   "cell_type": "code",
   "execution_count": null,
   "metadata": {
    "pycharm": {
     "is_executing": false
    }
   },
   "outputs": [],
   "source": [
    "import numpy as np\n",
    "import pandas as pd\n",
    "import math\n",
    "import matplotlib.pyplot as plt\n",
    "from collections import Counter\n",
    "%matplotlib inline\n",
    "from tqdm import tqdm\n",
    "from typing import List,Dict\n",
    "from IPython.display import Image\n",
    "\n",
    "from IPython.core.display import HTML \n",
    "from pathlib import Path"
   ]
  },
  {
   "cell_type": "code",
   "execution_count": null,
   "metadata": {
    "pycharm": {
     "is_executing": false
    }
   },
   "outputs": [],
   "source": [
    "from nltk.tokenize import word_tokenize \n",
    "from nltk.stem.porter import PorterStemmer\n",
    "import nltk\n",
    "nltk.download(\"stopwords\")\n",
    "nltk.download(\"punkt\")\n",
    "from string import punctuation, ascii_lowercase\n",
    "from nltk.corpus import stopwords"
   ]
  },
  {
   "cell_type": "markdown",
   "metadata": {},
   "source": [
    "# Debug\n",
    "\"\"\" you can change this cell \"\"\""
   ]
  },
  {
   "cell_type": "code",
   "execution_count": null,
   "metadata": {
    "pycharm": {
     "is_executing": false
    }
   },
   "outputs": [],
   "source": [
    "DEBUG = False\n",
    "\"\"\"\n",
    "Recommended to start with a small number to get a feeling for the preprocessing with prints (N_ROWS_FOR_DEBUG = 2)\n",
    "later increase this number for 5*10**3 in order to see that the code runs at reasonable speed. \n",
    "When setting Debug == False, our code implements bow.fit() in 15-20 minutes according to the tqdm progress bar. Your solution is not supposed to be much further than that.\n",
    "\"\"\"\n",
    "N_ROWS_FOR_DEBUG = 5*10**3 "
   ]
  },
  {
   "cell_type": "markdown",
   "metadata": {},
   "source": [
    "# Config"
   ]
  },
  {
   "cell_type": "code",
   "execution_count": null,
   "metadata": {
    "pycharm": {
     "is_executing": false
    }
   },
   "outputs": [],
   "source": [
    "INPUT_FILE_PATH = Path(\"lyrics.csv\")\n",
    "BOW_PATH = Path(\"bow.csv\")\n",
    "N_ROWS = N_ROWS_FOR_DEBUG if DEBUG else None\n",
    "CHUNCK_SIZE = 5 if DEBUG else 5*10**3\n",
    "tqdm_n_iterations = N_ROWS//CHUNCK_SIZE +1 if DEBUG else 363*10**3//CHUNCK_SIZE + 1\n",
    "COLS = [5]"
   ]
  },
  {
   "cell_type": "markdown",
   "metadata": {},
   "source": [
    "## 1.1 Bag of words model\n",
    "### Implement the following methods:\n",
    "\n",
    "* `preprocess_sentence`: \n",
    "    * Lower case the word\n",
    "    * Ignores it if it's in the stopwords list\n",
    "    * Removes characters which are not in the allowed symbols\n",
    "    * Stems it and appends it to the output sentence\n",
    "    * Discards words with length <= 1\n",
    "    \n",
    "    \n",
    "* `update_counts_and_probabilities`: \n",
    "\n",
    "    * Update self.unigram count (the amount of time each word is in the text)\n",
    "    * Update self.bigram count (two consecutive word occurances)\n",
    "    * Update self.trigram count (three consecutive word occurances)\n",
    "    * Update inverted index: a dictionary with words as keys and the values is a dictionary - {'DocID' : word_count}   \n",
    "    \n",
    "* `compute_word_document_frequency`:\n",
    "\n",
    "   * For each word count the number of docs it appears in. For example , for the word 'apple' -\n",
    "$$\\sum_{i \\in docs} I(apple \\in doc_i), I := Indicator function$$\n",
    "\n",
    "\n",
    "* `update_inverted_index_with_tf_idf_and_compute_document_norm`:\n",
    "\n",
    "    * Update the inverted index (which currently hold word counts) with tf idf weighing. We will compute tf by dividing with the number of words in each document. \n",
    "    * As we want to calculate the document norm, incrementally update the document norm. pay attention that later we apply sqrt to it to finish the process.\n",
    "\n",
    "#### The result of this code is a bag of words model that already counts for TF-IDF weighing"
   ]
  },
  {
   "cell_type": "code",
   "execution_count": null,
   "metadata": {
    "pycharm": {
     "is_executing": false
    }
   },
   "outputs": [],
   "source": [
    "stemmer = PorterStemmer()\n",
    "stop_words = set(stopwords.words('english'))\n",
    "allowed_symbols = set(l for l in ascii_lowercase)"
   ]
  },
  {
   "cell_type": "code",
   "execution_count": null,
   "metadata": {
    "pycharm": {
     "is_executing": false
    }
   },
   "outputs": [],
   "source": [
    "def preprocess_sentence(sentence : str) -> List[str]:\n",
    "    output_sentence = []\n",
    "    for word in word_tokenize(sentence):\n",
    "        word = word.lower()\n",
    "        if word in stop_words:\n",
    "            continue\n",
    "        for char in word:\n",
    "            if char not in allowed_symbols:\n",
    "                word = word.replace(char, '')\n",
    "        word = stemmer.stem(word)\n",
    "        if len(word) <= 1:\n",
    "            continue\n",
    "        output_sentence.append(word)\n",
    "    return output_sentence\n",
    "\n",
    "\n",
    "def get_data_chuncks() -> List[str]:\n",
    "    for i ,chunck in enumerate(pd.read_csv(INPUT_FILE_PATH, usecols = COLS, chunksize = CHUNCK_SIZE, nrows = N_ROWS)):\n",
    "        chunck = chunck.values.tolist()\n",
    "        yield [chunck[i][0] for i in range(len(chunck))]\n",
    "\n",
    "class TfIdf:\n",
    "    def __init__(self):\n",
    "        self.unigram_count =  Counter()\n",
    "        self.bigram_count = Counter()\n",
    "        self.trigram_count = Counter()\n",
    "        self.document_term_frequency = Counter()\n",
    "        self.word_document_frequency = {}\n",
    "        self.inverted_index = {}\n",
    "        self.doc_norms = {}\n",
    "        self.n_docs = -1\n",
    "        self.sentence_preprocesser = preprocess_sentence\n",
    "        self.bow_path = BOW_PATH\n",
    "\n",
    "    def update_counts_and_probabilities(self, sentence :List[str],document_id:int) -> None:\n",
    "        sentence_len = len(sentence)\n",
    "        self.document_term_frequency[document_id] = sentence_len\n",
    "        for i,word in enumerate(sentence):\n",
    "            self.unigram_count[word] += 1\n",
    "            if word in self.inverted_index:\n",
    "                if document_id in self.inverted_index[word]:\n",
    "                    self.inverted_index[word][document_id] += 1\n",
    "                else:\n",
    "                    self.inverted_index[word][document_id] = 1\n",
    "            else:\n",
    "                self.inverted_index.update({word:{document_id: 1}})\n",
    "            if i < sentence_len - 1:\n",
    "                bigram = word + \",\" + sentence[i+1]\n",
    "                self.bigram_count[bigram] += 1\n",
    "                if i < sentence_len - 2:\n",
    "                    trigram = bigram + \",\" +sentence[i+2]\n",
    "                    self.trigram_count[trigram] +=1\n",
    "\n",
    "\n",
    "    def fit(self) -> None:\n",
    "        for chunck in tqdm(get_data_chuncks(), total = tqdm_n_iterations):\n",
    "            for sentence in chunck:\n",
    "                self.n_docs += 1\n",
    "                self.doc_norms[self.n_docs] = 0\n",
    "                if not isinstance(sentence, str):\n",
    "                    continue\n",
    "                sentence = self.sentence_preprocesser(sentence)\n",
    "                if sentence:\n",
    "                    self.update_counts_and_probabilities(sentence,self.n_docs)\n",
    "        self.save_bow() # bow is 'bag of words'\n",
    "        self.compute_word_document_frequency()\n",
    "        self.update_inverted_index_with_tf_idf_and_compute_document_norm()\n",
    "\n",
    "    def compute_word_document_frequency(self):\n",
    "        for word in self.inverted_index.keys():\n",
    "            self.word_document_frequency[word] = len(self.inverted_index[word])\n",
    "\n",
    "\n",
    "\n",
    "    def update_inverted_index_with_tf_idf_and_compute_document_norm(self):\n",
    "        for word in self.inverted_index.keys():\n",
    "            for doc in self.inverted_index[word].keys():\n",
    "                tf = self.inverted_index[word][doc] / self.document_term_frequency[doc]\n",
    "                idf = np.log10(self.n_docs/self.word_document_frequency[word])\n",
    "                self.inverted_index[word][doc] = tf*idf\n",
    "                self.doc_norms[doc] += np.square(self.inverted_index[word][doc])\n",
    "        for doc in self.doc_norms.keys():\n",
    "            self.doc_norms[doc] = np.sqrt(self.doc_norms[doc])\n",
    "\n",
    "    def save_bow(self):\n",
    "        pd.DataFrame([self.inverted_index]).T.to_csv(self.bow_path)\n",
    "\n",
    "tf_idf = TfIdf()\n",
    "tf_idf.fit()\n"
   ]
  },
  {
   "cell_type": "markdown",
   "metadata": {},
   "source": [
    "## 1.11 Bag of words model:\n",
    "\n",
    "1. What is the computational complexity of this model, as a function of the number of docs in the corpus?\n",
    "2. How can we make this code better in terms running time (parallelization or other topics you find)? "
   ]
  },
  {
   "cell_type": "raw",
   "metadata": {},
   "source": [
    "### YOUR SOLUTION HERE\n",
    "1. We define D as number of docs and W as the average number of words in a doc (sentence).\n",
    "The parts 'preprocess_sentence' and 'update_counts_and_probabilities' complexity is O(D*W).\n",
    "The part 'compute_word_document_frequency' complexity is O(D*W)\n",
    "The part 'update_inverted_index_with_tf_idf_and_compute_document_norm' complexity is O(D*W*log(W))\n",
    "\n",
    "So the total complexity of this part is equivalent to the complexity of the 'update_inverted_index_with_tf_idf_and_compute_document_norm' which is: O(D*W*log(W))\n",
    "\n",
    "2. To improve the running time we can try to use few methods\n",
    "- Paralleziation: doing the preprocess part in parallel, running on a batch of sentences in parallel instead of sequantially  \n",
    "- Map Reduce: in addition, we can try and create the index using MR thus further minimizing the running time\n",
    "- Preprocessing: if possible, we can run the model creation phase as a pre process stage, store it (on disc etc.) and then only call it to run queries on runtime, saving the time it take to create the index.\n",
    "\n",
    "### END YOUR SOLUTION"
   ]
  },
  {
   "cell_type": "markdown",
   "metadata": {},
   "source": [
    "## 1.2 DocumentRetriever\n",
    "Not this retriever &#8595;"
   ]
  },
  {
   "cell_type": "markdown",
   "metadata": {},
   "source": [
    "\n",
    "![dsafdsafsdafdsf](https://cdn3-www.dogtime.com/assets/uploads/2019/10/golden-cocker-retriever-mixed-dog-breed-pictures-cover-1.jpg)"
   ]
  },
  {
   "cell_type": "markdown",
   "metadata": {},
   "source": [
    "### Implement the following methods:\n",
    "\n",
    "`reduce_query_to_counts`: given a list of words returns a counter object with words as keys and counts as values.\n",
    "\n",
    "`rank`: given a query and relevant documents calculate the similarity (cosine or inner product simialrity) between each document and the query.   \n",
    "Make sure to transform the query word counts to tf idf as well. \n",
    "\n",
    "`sort_and_retrieve_k_best`: returns the top k documents."
   ]
  },
  {
   "cell_type": "code",
   "execution_count": null,
   "metadata": {
    "pycharm": {
     "is_executing": false
    }
   },
   "outputs": [],
   "source": [
    "class DocumentRetriever:\n",
    "    def __init__(self, tf_idf):\n",
    "        self.sentence_preprocesser = preprocess_sentence\n",
    "        self.vocab = set(tf_idf.unigram_count.keys())\n",
    "        self.n_docs = tf_idf.n_docs\n",
    "        self.inverted_index = tf_idf.inverted_index\n",
    "        self.word_document_frequency = tf_idf.word_document_frequency\n",
    "        self.doc_norms = tf_idf.doc_norms\n",
    "\n",
    "    def rank(self,query : Dict[str,int],documents: List[Counter],metric: str ) -> Dict[str, float]:\n",
    "        result = {} # key: DocID , value : float , simmilarity to query\n",
    "        query_len = np.sum(np.array(list(query.values())))\n",
    "        for word in query:\n",
    "            query[word]=query[word]/query_len*np.log10(self.n_docs/self.word_document_frequency[word])    \n",
    "            for doc in documents[word]:\n",
    "                result[doc]=result.get(doc,0)+query[word]*self.inverted_index[word][doc]\n",
    "        if metric == 'cosine':\n",
    "            for doc in result.keys():\n",
    "                result[doc]=result[doc]/self.doc_norms[doc]\n",
    "\n",
    "        return result\n",
    "\n",
    "    def sort_and_retrieve_k_best(self, scores: Dict[str, float],k :int):\n",
    "        sorted_list_keys =  {key : v for key, v in sorted(scores.items(), key = lambda item: item[1], reverse=True)[:k]}\n",
    "\n",
    "        return list(sorted_list_keys.keys())\n",
    "\n",
    "    def reduce_query_to_counts(self, query : List)->  Counter:\n",
    "        query_counts = Counter()\n",
    "        for i, word in enumerate(query):\n",
    "            query_counts[word] += 1\n",
    "        return query_counts\n",
    "\n",
    "\n",
    "\n",
    "    def get_top_k_documents(self,query : str, metric: str , k = 5) -> List[str]:\n",
    "        query = self.sentence_preprocesser(query)\n",
    "        query = [word for word in query if word in self.vocab] # filter nan\n",
    "        query_bow = self.reduce_query_to_counts(query)\n",
    "        relavant_documents = {word : self.inverted_index.get(word) for word in query}\n",
    "        ducuments_with_similarity = self.rank(query_bow,relavant_documents, metric)\n",
    "        return self.sort_and_retrieve_k_best(ducuments_with_similarity,k)\n",
    "\n",
    "dr = DocumentRetriever(tf_idf)"
   ]
  },
  {
   "cell_type": "code",
   "execution_count": null,
   "metadata": {
    "pycharm": {
     "is_executing": false
    }
   },
   "outputs": [],
   "source": [
    "from IPython.display import HTML\n",
    "query = \"Better stop dreaming of the quiet life, 'cause it's the one we'll never know And quit running for that runaway bus 'cause those rosy days are few And stop apologizing for the things you've never done 'Cause time is short and life is cruel but it's up to us to change This town called malice\"\n",
    "HTML('<iframe width=\"560\" height=\"315\" src=\"https://www.youtube.com/embed/KT6ZtUbVw1M?rel=0&amp;controls=0&amp;showinfo=0\" frameborder=\"0\" allowfullscreen></iframe>')"
   ]
  },
  {
   "cell_type": "code",
   "execution_count": null,
   "metadata": {
    "pycharm": {
     "is_executing": false
    }
   },
   "outputs": [],
   "source": [
    "cosine_top_k = dr.get_top_k_documents(query, 'cosine')\n",
    "print(cosine_top_k)\n",
    "inner_product_top_k = dr.get_top_k_documents(query, 'inner_product')\n",
    "print(inner_product_top_k)"
   ]
  },
  {
   "cell_type": "code",
   "execution_count": null,
   "metadata": {
    "pycharm": {
     "is_executing": false
    }
   },
   "outputs": [],
   "source": [
    "for index, song in enumerate(pd.read_csv(INPUT_FILE_PATH,usecols = [5]).iloc[cosine_top_k]['lyrics']):\n",
    "    sep = \"#\"*50\n",
    "    print(F\"{sep}\\nsong #{index} \\n{song} \\n{sep}\")"
   ]
  },
  {
   "cell_type": "markdown",
   "metadata": {},
   "source": [
    "# 1.3 term statistics:\n",
    "Use \"bow\" object that we created earlier and answer the following questions:\n",
    "\n",
    "1. How many unique words we have?\n",
    "2. How many potential word bigrams we have? How many actual word bigrams we have? How do you explain this difference?\n",
    "3. What is the storage size of the input file \"lyrics.csv\"? What is the output file (bow.csv) size? how do you explain this difference?  "
   ]
  },
  {
   "cell_type": "code",
   "execution_count": null,
   "metadata": {
    "pycharm": {
     "is_executing": false
    },
    "scrolled": true
   },
   "outputs": [],
   "source": [
    "# 1. \n",
    "### YOUR SOLUTION HERE\n",
    "print('unigram_count: ' + str(len(tf_idf.unigram_count)))\n",
    "### END YOUR SOLUTION\n",
    "\n",
    "\"\"\"\n",
    "### Your verbal solution here\n",
    "The tf_idf.unigram_count Counter holds all of the unique words in our vocabulary. \n",
    "### End your verbal solution here\n",
    "\"\"\"\n",
    "\n",
    "# 2.\n",
    "### YOUR SOLUTION HERE\n",
    "print('potential : ' + str((len(tf_idf.unigram_count))*(len(tf_idf.unigram_count))))\n",
    "print('bigram_count: ' + str(len(tf_idf.bigram_count)))\n",
    "### END YOUR SOLUTION\n",
    "\n",
    "\"\"\"\n",
    "### Your verbal solution here\n",
    "The number of potenial bigrams is the square of the number of unique words in our corpus, which is: 150750486756\n",
    "In reality we only have 6308457 bigrams.\n",
    "The difference might happen because not all pairs are viable by grammar rules, logic rules or just less likely to be paired\n",
    "to one another in songs.\n",
    "\n",
    "### End your verbal solution here\n",
    "\"\"\"\n",
    "\n",
    "# 3.\n",
    "### YOUR SOLUTION HERE\n",
    "import os\n",
    "print(\"lyrics storage size: \",Path(INPUT_FILE_PATH).stat().st_size/(1024*1024))\n",
    "print(\"bow storage size: \",Path(tf_idf.bow_path).stat().st_size/(1024*1024))\n",
    "### END YOUR SOLUTION\n",
    "\n",
    "\"\"\"\n",
    "### Your verbal solution here\n",
    "Size of the lyrics file is about ~315MB on disc and the size of the bow file is about ~190MB on disc.\n",
    "\n",
    "The difference can be explained by the three steps we took in order to create the bow file:\n",
    "1. Out of the whole file we started with we exclusively used only the lyrics part.\n",
    "2. In the preprocessing stage we removed all of the stop words, not allowed symbols and stemmed all words, ending up with \n",
    "processed sentences that are smaller and lighter than the ones we started with.\n",
    "3. In the \"update_counts_and_probablities\", we created the inverted index which was later saved as the bow file.\n",
    "That object is a dictionary containing the different words, documents and number of times they appeared in each combination.\n",
    "So no matter how many times the word repeated itself in a song within the original file, the bow file contains only the word itself \n",
    "and its number of appearences in a document, resulting in another big reduction in sizes.\n",
    " \n",
    "### End your verbal solution here\n",
    "\"\"\""
   ]
  },
  {
   "cell_type": "markdown",
   "metadata": {},
   "source": [
    "## 1.4 NgramSpellingCorrector\n",
    "Now we will implement a Ngarm (character Ngrams) spelling corrector. That is, we have an out of vocabulary word (v) and we want to retrieve the most similar words (in our vocabulary) to this word.\n",
    "we will model the similarity of two words by-\n",
    "\n",
    "$$sim(v,w) := prior \\cdot likelihood = p(w) \\cdot P(v|w) $$\n",
    "$$P(v|w) := JaccardIndex =  \\frac{|X \\cap Y|}{|X \\cup Y|}$$\n",
    "\n",
    "Where v is an out of vocabulary word (typo or spelling mistake), w is in a vocabulary word, X is the ngram set of v and Y is the ngram set of w.\n",
    "For example, if n == 3, the set of ngrams for word \"banana\" is set(\"ban\",\"ana\",\"nan\",\"ana\") = {\"ban\",\"ana\",\"nan\"}\n",
    "\n",
    "In order to do it efficently, we will first construct an index from the possible Ngrams we have seen in our corpus to the words that those Ngrams appear in, in order prevent comparing v to all of the words in our corpus.\n",
    "Then, we will implement a function that computes this similarity.\n",
    "\n",
    "* Make sure you compute the JaccardIndex efficently!"
   ]
  },
  {
   "cell_type": "code",
   "execution_count": null,
   "metadata": {
    "pycharm": {
     "is_executing": false
    }
   },
   "outputs": [],
   "source": [
    "def get_bigrams(word):\n",
    "    for ngram in nltk.ngrams(word, 2):\n",
    "        yield \"\".join(list(ngram))\n",
    "\n",
    "def get_trigrams(word):\n",
    "    for ngram in nltk.ngrams(word, 3):\n",
    "        yield \"\".join(list(ngram))\n",
    "\n",
    "\n",
    "\"\"\"\n",
    "for example - get_bigrams is a generator, which is an object we can loop on:\n",
    "for ngram in get_bigrams(word):\n",
    "    DO SOMETHING\n",
    "\"\"\""
   ]
  },
  {
   "cell_type": "code",
   "execution_count": null,
   "metadata": {
    "pycharm": {
     "is_executing": false
    }
   },
   "outputs": [],
   "source": [
    "class NgramSpellingCorrector:\n",
    "    def __init__(self, unigram_counts: Counter, get_n_gram: callable):\n",
    "        self.unigram_counts = unigram_counts\n",
    "        self.ngram_index = {}\n",
    "        self.get_n_grams = get_n_gram\n",
    "\n",
    "    def build_index(self) -> None:\n",
    "        for word in self.unigram_counts.keys():\n",
    "            for ngram in self.get_n_grams(word):\n",
    "                if self.ngram_index.get(ngram):\n",
    "                    self.ngram_index[ngram].append(word)\n",
    "                else:\n",
    "                    self.ngram_index[ngram] = [word]\n",
    "\n",
    "\n",
    "    def get_top_k_words(self,word:str,k=5) -> List[str]:\n",
    "        total_words = sum(self.unigram_counts.values())\n",
    "        list_x = [ngram for ngram in self.get_n_grams(word)]\n",
    "        similarity_dict = {}\n",
    "        for ngram in list_x:\n",
    "            if self.ngram_index.get(ngram):\n",
    "                for real_word in self.ngram_index.get(ngram):\n",
    "                    if not similarity_dict.get(real_word):\n",
    "                        prior = self.unigram_counts[real_word] / total_words\n",
    "                        list_y = [ngram for ngram in self.get_n_grams(real_word)]\n",
    "                        similarity_dict[real_word] = prior * jaccard_similarity(list_x, list_y)\n",
    "\n",
    "        return sorted(similarity_dict.keys(),key=lambda item : similarity_dict[item],reverse=True)[:k]\n",
    "\n",
    "\n",
    "def jaccard_similarity(list1, list2):\n",
    "    intersection = len(list(set(list1).intersection(list2)))\n",
    "    union = (len(list1) + len(list2)) - intersection\n",
    "    return float(intersection) / union\n",
    "\n",
    "\n",
    "class BigramSpellingCorrector(NgramSpellingCorrector):\n",
    "    def __init__(self, unigram_counts: Counter):\n",
    "        super().__init__(unigram_counts, get_bigrams)\n",
    "\n",
    "\n",
    "class TrigramSpellingCorrector(NgramSpellingCorrector):\n",
    "    def __init__(self, unigram_counts: Counter):\n",
    "        super().__init__(unigram_counts, get_trigrams)#%%"
   ]
  },
  {
   "cell_type": "code",
   "execution_count": null,
   "metadata": {
    "pycharm": {
     "is_executing": false
    }
   },
   "outputs": [],
   "source": [
    "out_of_vocab_word = 'supercalifragilisticexpialidocious'\n",
    "bigram_spelling_corrector = BigramSpellingCorrector(tf_idf.unigram_count)\n",
    "bigram_spelling_corrector.build_index()\n",
    "bigram_spelling_corrector.get_top_k_words(out_of_vocab_word)\n"
   ]
  },
  {
   "cell_type": "code",
   "execution_count": null,
   "metadata": {},
   "outputs": [],
   "source": [
    "\n",
    "trigram_spelling_corrector = TrigramSpellingCorrector(tf_idf.unigram_count)\n",
    "trigram_spelling_corrector.build_index()\n",
    "trigram_spelling_corrector.get_top_k_words(out_of_vocab_word)"
   ]
  },
  {
   "cell_type": "markdown",
   "metadata": {},
   "source": [
    "## 1.5 Language model\n",
    "Calculate the log likelihood of a sentence. Once with a bigram markovian langauge model, and once with a trigram model.\n",
    "for example - the likelihood of the senetence \"spiderman spiderman does whatever a spider can\" for the bigram model is: \n",
    "$$p(spiderman)\\cdot p(spiderman|spiderman) \\cdot  p(does|spiderman) \\cdot p(whatever|does) \\cdot  p(a|whatever) \\cdot  p(spider|a) \\cdot p(can|spider)$$\n",
    "\n",
    "And for the trigram model:\n",
    "$$p(spiderman,spiderman)\\cdot p(does|spiderman,spiderman) \\cdot  p(whatever|spiderman,does) \\cdot p(a|does,whatever) \\cdot  p(spider|whatever,a) \\cdot  p(can|a, spider)$$\n",
    "\n",
    "Since we do not want a zero probability sentence use Laplace smoothing, as you have seen in the lecture, or here https://en.wikipedia.org/wiki/Additive_smoothing"
   ]
  },
  {
   "cell_type": "code",
   "execution_count": null,
   "metadata": {
    "pycharm": {
     "is_executing": false
    }
   },
   "outputs": [],
   "source": [
    "# for the probability smoothing\n",
    "NUMERATOR_SMOOTHING = 1 # alpha in https://en.wikipedia.org/wiki/Additive_smoothing\n",
    "DENOMINATOR_SMOOTHING = 10**4 # d in https://en.wikipedia.org/wiki/Additive_smoothing\n",
    "def sentence_log_probabilty(unigrams : Counter, bigrams  : Counter,trigrams : Counter, sentence: str):\n",
    "    bigram_log_likelilhood, trigram_log_likelilhood = 0, 0\n",
    "    words_in_sentence = sentence.split()\n",
    "    n_words = len(words_in_sentence)\n",
    "    for index, word in  enumerate(words_in_sentence):\n",
    "        if index == 0:\n",
    "            bigram_log_likelilhood += np.log((unigrams[word] + NUMERATOR_SMOOTHING) / (sum(unigrams.values()) + DENOMINATOR_SMOOTHING))\n",
    "        elif index == 1:\n",
    "            bigram_log_likelilhood += np.log(((bigrams[words_in_sentence[index-1]+\",\"+word]  / sum(bigrams.values())) + NUMERATOR_SMOOTHING)/\n",
    "                                             ((unigrams[words_in_sentence[index-1]] / sum(unigrams.values())) + DENOMINATOR_SMOOTHING))\n",
    "            trigram_log_likelilhood += np.log((bigrams[words_in_sentence[index-1]+\",\"+word] + NUMERATOR_SMOOTHING) / (sum(bigrams.values()) + DENOMINATOR_SMOOTHING))\n",
    "        else:\n",
    "            bigram_log_likelilhood += np.log(((bigrams[words_in_sentence[index-1]+\",\"+word]  / sum(bigrams.values())) + NUMERATOR_SMOOTHING)/\n",
    "                                              ((unigrams[words_in_sentence[index-1]] / sum(unigrams.values())) + DENOMINATOR_SMOOTHING))\n",
    "            trigram_log_likelilhood += np.log(((trigrams[words_in_sentence[index-2]+\",\"+words_in_sentence[index-1]+\",\"+word] / sum(trigrams.values()))+ NUMERATOR_SMOOTHING) /\n",
    "                                              ((bigrams[words_in_sentence[index-2]+\",\"+words_in_sentence[index-1]] / sum(bigrams.values())) + DENOMINATOR_SMOOTHING))\n",
    "     \n",
    "    print(F\"Bigram log likelihood is {bigram_log_likelilhood}\")\n",
    "    print(F\"Trigram log likelihood is {trigram_log_likelilhood}\")\n",
    "    \n",
    "sentence = \"spider man spider man does whatever a spider can\"\n",
    "sentence_log_probabilty(tf_idf.unigram_count, tf_idf.bigram_count, tf_idf.trigram_count, sentence)"
   ]
  },
  {
   "cell_type": "markdown",
   "metadata": {},
   "source": [
    "## 1.51 Language model: B\n",
    "For each model what is the next word prediciton for the sentnence \"i am\"?"
   ]
  },
  {
   "cell_type": "code",
   "execution_count": null,
   "metadata": {
    "pycharm": {
     "is_executing": false
    },
    "scrolled": false
   },
   "outputs": [],
   "source": [
    "### YOUR CODE HERE\n",
    "sentence_to_predict = \"i am\"\n",
    "\n",
    "bigram_list = [bigram for bigram in tf_idf.bigram_count.keys() if str(bigram).startswith(sentence_to_predict.split()[-1] + \",\")]\n",
    "trigram_list = [trigram for trigram in tf_idf.trigram_count.keys() if str(trigram).startswith(sentence_to_predict.split()[-2] + \",\" + sentence_to_predict.split()[-1] + \",\")]\n",
    "\n",
    "dict_bigram = {bigram : np.log((tf_idf.bigram_count[bigram] + NUMERATOR_SMOOTHING) /(tf_idf.unigram_count[bigram.split(',')[0]] + NUMERATOR_SMOOTHING*DENOMINATOR_SMOOTHING)) for bigram in bigram_list}\n",
    "if (bool(dict_bigram)): next_bigram_word = max(dict_bigram, key=dict_bigram.get)\n",
    "else: next_bigram_word = max(tf_idf.unigram_count, key=tf_idf.unigram_count.get)\n",
    "\n",
    "\n",
    "dict_trigram = {trigram : np.log((tf_idf.trigram_count[trigram] + NUMERATOR_SMOOTHING) / (tf_idf.bigram_count[trigram.split(',')[0]+\",\"+trigram.split(',')[1]] + NUMERATOR_SMOOTHING*DENOMINATOR_SMOOTHING)) for trigram in trigram_list}\n",
    "if (bool(dict_trigram)): next_trigram_word = max(dict_trigram, key=dict_trigram.get)\n",
    "else: next_trigram_word = max(tf_idf.unigram_count, key=tf_idf.unigram_count.get)\n",
    "\n",
    "\n",
    "print(\"Next word predicition according to bigram model is: \" + next_bigram_word.split(',')[-1])\n",
    "print(\"The full sentece is: \" + sentence_to_predict + \" \" + next_bigram_word.split(',')[-1])\n",
    "print(\"Next word predicition according to trigram model is: \" + next_trigram_word.split(',')[-1])\n",
    "print(\"The full sentece is: \" + sentence_to_predict + \" \" + next_trigram_word.split(',')[-1])\n",
    "\n",
    "### END YOUR CODE"
   ]
  },
  {
   "cell_type": "code",
   "execution_count": null,
   "metadata": {},
   "outputs": [],
   "source": [
    "'''\n",
    "Our idea for predicting the next word according to the bigram/trigram model, was extracting all exisiting bigrams/trigrams\n",
    "that end in a similar way to the sentence we're trying to predict on.\n",
    "ie. for \"i am\" we'll look for any bigram that looks like \"am xxx\" (am mess, am not, etc)\n",
    "and any trigram that looks like \"i am xxx\" (i am creep, i am weirdo) \n",
    "and then from those selected bigrams/trigrams, find the one that is the most likely to appear by relying on our data.\n",
    "if no bigram/trigram exist, we will use the most common word from our unigram list.\n",
    "'''\n"
   ]
  }
 ],
 "metadata": {
  "kernelspec": {
   "display_name": "Python 3",
   "language": "python",
   "name": "python3"
  },
  "language_info": {
   "codemirror_mode": {
    "name": "ipython",
    "version": 3
   },
   "file_extension": ".py",
   "mimetype": "text/x-python",
   "name": "python",
   "nbconvert_exporter": "python",
   "pygments_lexer": "ipython3",
   "version": "3.7.6"
  },
  "pycharm": {
   "stem_cell": {
    "cell_type": "raw",
    "source": [],
    "metadata": {
     "collapsed": false
    }
   }
  }
 },
 "nbformat": 4,
 "nbformat_minor": 4
}